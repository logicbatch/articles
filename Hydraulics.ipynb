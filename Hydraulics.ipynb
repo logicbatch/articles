{
 "cells": [
  {
   "cell_type": "markdown",
   "metadata": {},
   "source": [
    "# Hydraulic Calculations"
   ]
  },
  {
   "cell_type": "code",
   "execution_count": 64,
   "metadata": {},
   "outputs": [],
   "source": [
    "from math import pi, log\n",
    "import numpy as np"
   ]
  },
  {
   "cell_type": "code",
   "execution_count": 10,
   "metadata": {},
   "outputs": [],
   "source": [
    "# class Fluid: Fluid physical properties\n",
    "class Fluid(object):\n",
    "    def __init__(self):\n",
    "        self.name = \"water\"\n",
    "        self.rho = 1000 # kg/m3 (~62.43 lb/ft3)\n",
    "        self.miu = 0.001 # Pa-s (1 cP)"
   ]
  },
  {
   "cell_type": "code",
   "execution_count": 96,
   "metadata": {},
   "outputs": [],
   "source": [
    "# class Pipe: Pipe dimensions and physical properties\n",
    "class Pipe(object):\n",
    "    def __init__(self, diameter, length, fluid, flow):\n",
    "        self.material = \"SS316\" # stainless steel 316\n",
    "        self.roughness =  4.5720E-05 # m\n",
    "        self.age = 1.2\n",
    "        # toDO make a numpy array that holds the following values\n",
    "        self.diameter = diameter\n",
    "        self.length = length\n",
    "        self.fluid = fluid\n",
    "        self.flow = flow \n",
    "        self.εD = (self.roughness *self.age) / self.diameter\n",
    "        self.reynolds()\n",
    "        self.friction()\n",
    "        self.pression()\n",
    "    \n",
    "    def reynolds(self):\n",
    "        self.Re = 4*(self.flow *self.fluid.rho)/pi/self.diameter/self.fluid.miu\n",
    "        return\n",
    "    \n",
    "    def friction(self):\n",
    "        factorA = (2.457*log(1/(((7/self.Re)**0.9)+0.27*self.εD)))**16\n",
    "        factorB = (37530/self.Re)**16\n",
    "        self.fanning = 2*((((8/self.Re)**12)+(1/((factorA+factorB)**1.5)))**(1/12))\n",
    "        return\n",
    "    \n",
    "    def pression(self):\n",
    "        self.ΔP = self.fanning*32*self.fluid.rho*self.length*(self.flow**2)/(pi**2)/(self.diameter**5)/1000\n",
    "    \n",
    "    def __str__(self):\n",
    "        tmp = f\"{self.material} Pipe\\n\"\n",
    "        tmp += f\"ID: {self.diameter} m\\n\"\n",
    "        tmp += f\"Length: {self.length} m\\n\"\n",
    "        return tmp"
   ]
  },
  {
   "cell_type": "code",
   "execution_count": 97,
   "metadata": {},
   "outputs": [
    {
     "name": "stdout",
     "output_type": "stream",
     "text": [
      "1.74E-04\n",
      "3.62E+05\n"
     ]
    }
   ],
   "source": [
    "water = Fluid()\n",
    "pipe1 =  Pipe(0.31471, 3.05, water, 0.0894)\n",
    "print(\"{:.2E}\".format(pipe1.εD))\n",
    "print(\"{:.2E}\".format(pipe1.Re))"
   ]
  },
  {
   "cell_type": "code",
   "execution_count": 98,
   "metadata": {},
   "outputs": [
    {
     "name": "stdout",
     "output_type": "stream",
     "text": [
      "0.0039\n"
     ]
    }
   ],
   "source": [
    "print(\"{:.2}\".format(pipe1.fanning))"
   ]
  },
  {
   "cell_type": "code",
   "execution_count": 99,
   "metadata": {},
   "outputs": [
    {
     "name": "stdout",
     "output_type": "stream",
     "text": [
      "0.101 kPa\n"
     ]
    }
   ],
   "source": [
    "print(\"{:.3} kPa\".format(pipe1.ΔP))"
   ]
  },
  {
   "cell_type": "code",
   "execution_count": 100,
   "metadata": {},
   "outputs": [
    {
     "name": "stdout",
     "output_type": "stream",
     "text": [
      "SS316 Pipe\n",
      "ID: 0.31471 m\n",
      "Length: 3.05 m\n",
      "\n"
     ]
    }
   ],
   "source": [
    "print(pipe1)"
   ]
  },
  {
   "cell_type": "code",
   "execution_count": null,
   "metadata": {},
   "outputs": [],
   "source": []
  },
  {
   "cell_type": "code",
   "execution_count": null,
   "metadata": {},
   "outputs": [],
   "source": []
  },
  {
   "cell_type": "code",
   "execution_count": null,
   "metadata": {},
   "outputs": [],
   "source": []
  },
  {
   "cell_type": "code",
   "execution_count": null,
   "metadata": {},
   "outputs": [],
   "source": []
  }
 ],
 "metadata": {
  "kernelspec": {
   "display_name": "Python 3",
   "language": "python",
   "name": "python3"
  },
  "language_info": {
   "codemirror_mode": {
    "name": "ipython",
    "version": 3
   },
   "file_extension": ".py",
   "mimetype": "text/x-python",
   "name": "python",
   "nbconvert_exporter": "python",
   "pygments_lexer": "ipython3",
   "version": "3.7.4"
  }
 },
 "nbformat": 4,
 "nbformat_minor": 2
}
