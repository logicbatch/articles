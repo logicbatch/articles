{
 "cells": [
  {
   "cell_type": "markdown",
   "metadata": {},
   "source": [
    "# Expansion of Saturated Steam"
   ]
  },
  {
   "cell_type": "markdown",
   "metadata": {},
   "source": [
    "    1) We calculate the flashing of saturated liquid at a given Pressure P1 (bar):"
   ]
  },
  {
   "cell_type": "code",
   "execution_count": null,
   "metadata": {},
   "outputs": [],
   "source": [
    "P1 = 25"
   ]
  },
  {
   "cell_type": "markdown",
   "metadata": {},
   "source": [
    "Now we know that the steam comming out of the flashing is saturated and approximately at a given Temperature T1"
   ]
  },
  {
   "cell_type": "code",
   "execution_count": 9,
   "metadata": {},
   "outputs": [
    {
     "data": {
      "text/plain": [
       "223.8"
      ]
     },
     "metadata": {},
     "output_type": "display_data"
    }
   ],
   "source": [
    "T1 = display(round(tsat(P1),2))"
   ]
  },
  {
   "cell_type": "markdown",
   "metadata": {},
   "source": [
    "    2) The expansion to a given pressure P2 < P1 can be performed only assuming what type of expansion is going to take place. Normally there are two approaches, Isoentropic and Isoenthalpic. The first is mostly used for the expansions at pressure relief valves, the latter for expansions in other types of valves with high pressure drops i.e. very irreversible. It is quite possible, that real processes are closely described by a mixture of both approaches."
   ]
  },
  {
   "cell_type": "markdown",
   "metadata": {},
   "source": [
    "## Isoenthalpic Approach"
   ]
  },
  {
   "cell_type": "code",
   "execution_count": null,
   "metadata": {},
   "outputs": [],
   "source": [
    "import math\n",
    "from scipy.optimize import minimize\n",
    "\n",
    "'Isobaric Specific Heat kJ/(kgK)'\n",
    "#T in °C\n",
    "def cpl(T):\n",
    "    x = math.exp(T/100)\n",
    "    cpliq = 0.00018244 * math.pow(x,3) - 0.0037948 * math.pow(x,2) + 0.089990 * x + 3.9858\n",
    "    return(cpliq)\n",
    "'Specific Heat of Vaporization (kJ/kg)'\n",
    "#T in °C\n",
    "def lam(T):\n",
    "    x = -0.0069723E-03 * T + 3.6739\n",
    "    lam = math.pow(1000000 * math.log(-0.0069723 * T + 3.6739) , 1 / 1.8)\n",
    "    return(lam)\n",
    "'Saturation Temperature (°C) Pressure in bar-a'\n",
    "def tsat(P):\n",
    "    P = P * 760 / 1.01325\n",
    "    tsat = 1810.94 / (8.14019 - math.log(P , 10)) - 244.485\n",
    "    return(tsat)\n",
    "m1 = 1 #kg/h   \n",
    "Tsat1 = tsat(P1) #°C\n",
    "P2 = 20 #bara\n",
    "Tsat2 = tsat(P2) #°C\n",
    "h2f = cpl((Tsat1 + Tsat2) / 2) * (Tsat2 - Tsat1)\n",
    "m2v = - h2f / lam(Tsat2) #kg/h\n",
    "m2l = m1 - m2v\n",
    "h2g = h2f + lam(Tsat2)\n",
    "P3 = 10 #bara\n",
    "Tsat3 = tsat(P3) #°C\n",
    "h3f = cpl((Tsat1 + Tsat3) / 2) * (Tsat3 - Tsat1)\n",
    "\n",
    "def Cpg(T):\n",
    "\tCpg = 0.00000023303 * math.pow(T, 2) + 0.00045214 * T + 1.8423\n",
    "\treturn Cpg\n",
    "\n",
    "def CostFunc(T):\n",
    "\tJ = h2f + lam(Tsat2) - (h3f + lam(Tsat3) + (T - Tsat3) * Cpg((Tsat3)))\n",
    "\treturn math.fabs(J)\n",
    "T3 = minimize(CostFunc, Tsat2, method='nelder-mead')\n",
    "DT = Tsat2 - T3.x\n",
    "print(Tsat2)\n",
    "#print(Tsat3)\n",
    "print(h2f + lam(Tsat2))\n",
    "print(h3f + lam(Tsat3)+ (189.6 - Tsat3) * Cpg((Tsat3)))"
   ]
  },
  {
   "cell_type": "code",
   "execution_count": null,
   "metadata": {},
   "outputs": [],
   "source": []
  }
 ],
 "metadata": {
  "kernelspec": {
   "display_name": "Python 3",
   "language": "python",
   "name": "python3"
  },
  "language_info": {
   "codemirror_mode": {
    "name": "ipython",
    "version": 3
   },
   "file_extension": ".py",
   "mimetype": "text/x-python",
   "name": "python",
   "nbconvert_exporter": "python",
   "pygments_lexer": "ipython3",
   "version": "3.6.7"
  }
 },
 "nbformat": 4,
 "nbformat_minor": 2
}
